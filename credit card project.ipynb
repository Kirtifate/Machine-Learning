{
 "cells": [
  {
   "cell_type": "code",
   "execution_count": 2,
   "id": "fba18872-2b40-49cf-a38e-05d7d8730f07",
   "metadata": {},
   "outputs": [],
   "source": [
    "import numpy as np\n",
    "import pandas as pd\n",
    "import matplotlib.pyplot as plt\n",
    "import seaborn as sns"
   ]
  },
  {
   "cell_type": "code",
   "execution_count": 3,
   "id": "cc074c16-7b98-4b1a-bd0f-a2e3950443de",
   "metadata": {},
   "outputs": [],
   "source": [
    "df=pd.read_csv('creditcard.csv')"
   ]
  },
  {
   "cell_type": "code",
   "execution_count": 4,
   "id": "d5b4aa08-8bae-40bf-a0d3-8b9c13819540",
   "metadata": {},
   "outputs": [
    {
     "data": {
      "text/html": [
       "<div>\n",
       "<style scoped>\n",
       "    .dataframe tbody tr th:only-of-type {\n",
       "        vertical-align: middle;\n",
       "    }\n",
       "\n",
       "    .dataframe tbody tr th {\n",
       "        vertical-align: top;\n",
       "    }\n",
       "\n",
       "    .dataframe thead th {\n",
       "        text-align: right;\n",
       "    }\n",
       "</style>\n",
       "<table border=\"1\" class=\"dataframe\">\n",
       "  <thead>\n",
       "    <tr style=\"text-align: right;\">\n",
       "      <th></th>\n",
       "      <th>Time</th>\n",
       "      <th>V1</th>\n",
       "      <th>V2</th>\n",
       "      <th>V3</th>\n",
       "      <th>V4</th>\n",
       "      <th>V5</th>\n",
       "      <th>V6</th>\n",
       "      <th>V7</th>\n",
       "      <th>V8</th>\n",
       "      <th>V9</th>\n",
       "      <th>...</th>\n",
       "      <th>V21</th>\n",
       "      <th>V22</th>\n",
       "      <th>V23</th>\n",
       "      <th>V24</th>\n",
       "      <th>V25</th>\n",
       "      <th>V26</th>\n",
       "      <th>V27</th>\n",
       "      <th>V28</th>\n",
       "      <th>Amount</th>\n",
       "      <th>Class</th>\n",
       "    </tr>\n",
       "  </thead>\n",
       "  <tbody>\n",
       "    <tr>\n",
       "      <th>254979</th>\n",
       "      <td>157008.0</td>\n",
       "      <td>-0.224765</td>\n",
       "      <td>-0.377304</td>\n",
       "      <td>1.809040</td>\n",
       "      <td>-1.943051</td>\n",
       "      <td>-0.838307</td>\n",
       "      <td>0.355962</td>\n",
       "      <td>-0.554839</td>\n",
       "      <td>0.364794</td>\n",
       "      <td>-0.717171</td>\n",
       "      <td>...</td>\n",
       "      <td>-0.004688</td>\n",
       "      <td>0.276819</td>\n",
       "      <td>0.099171</td>\n",
       "      <td>0.739744</td>\n",
       "      <td>-0.575900</td>\n",
       "      <td>0.440104</td>\n",
       "      <td>0.024067</td>\n",
       "      <td>0.042563</td>\n",
       "      <td>45.90</td>\n",
       "      <td>0</td>\n",
       "    </tr>\n",
       "    <tr>\n",
       "      <th>706</th>\n",
       "      <td>533.0</td>\n",
       "      <td>-1.233535</td>\n",
       "      <td>0.145320</td>\n",
       "      <td>-0.067227</td>\n",
       "      <td>-1.750577</td>\n",
       "      <td>-0.801069</td>\n",
       "      <td>-0.381652</td>\n",
       "      <td>1.561095</td>\n",
       "      <td>0.320172</td>\n",
       "      <td>0.231379</td>\n",
       "      <td>...</td>\n",
       "      <td>0.395250</td>\n",
       "      <td>0.868590</td>\n",
       "      <td>0.554972</td>\n",
       "      <td>0.243594</td>\n",
       "      <td>-0.034702</td>\n",
       "      <td>-0.829909</td>\n",
       "      <td>0.234285</td>\n",
       "      <td>0.190521</td>\n",
       "      <td>291.36</td>\n",
       "      <td>0</td>\n",
       "    </tr>\n",
       "  </tbody>\n",
       "</table>\n",
       "<p>2 rows × 31 columns</p>\n",
       "</div>"
      ],
      "text/plain": [
       "            Time        V1        V2        V3        V4        V5        V6  \\\n",
       "254979  157008.0 -0.224765 -0.377304  1.809040 -1.943051 -0.838307  0.355962   \n",
       "706        533.0 -1.233535  0.145320 -0.067227 -1.750577 -0.801069 -0.381652   \n",
       "\n",
       "              V7        V8        V9  ...       V21       V22       V23  \\\n",
       "254979 -0.554839  0.364794 -0.717171  ... -0.004688  0.276819  0.099171   \n",
       "706     1.561095  0.320172  0.231379  ...  0.395250  0.868590  0.554972   \n",
       "\n",
       "             V24       V25       V26       V27       V28  Amount  Class  \n",
       "254979  0.739744 -0.575900  0.440104  0.024067  0.042563   45.90      0  \n",
       "706     0.243594 -0.034702 -0.829909  0.234285  0.190521  291.36      0  \n",
       "\n",
       "[2 rows x 31 columns]"
      ]
     },
     "execution_count": 4,
     "metadata": {},
     "output_type": "execute_result"
    }
   ],
   "source": [
    "df.sample(2)"
   ]
  },
  {
   "cell_type": "code",
   "execution_count": 5,
   "id": "474020c8-6fb6-4301-a767-fb0ac2c16603",
   "metadata": {},
   "outputs": [
    {
     "data": {
      "text/plain": [
       "(284807, 31)"
      ]
     },
     "execution_count": 5,
     "metadata": {},
     "output_type": "execute_result"
    }
   ],
   "source": [
    "df.shape"
   ]
  },
  {
   "cell_type": "code",
   "execution_count": 7,
   "id": "867e0431-2f47-43ed-a7b6-8faa28f3aef9",
   "metadata": {},
   "outputs": [
    {
     "data": {
      "text/plain": [
       "Time      0\n",
       "V1        0\n",
       "V2        0\n",
       "V3        0\n",
       "V4        0\n",
       "V5        0\n",
       "V6        0\n",
       "V7        0\n",
       "V8        0\n",
       "V9        0\n",
       "V10       0\n",
       "V11       0\n",
       "V12       0\n",
       "V13       0\n",
       "V14       0\n",
       "V15       0\n",
       "V16       0\n",
       "V17       0\n",
       "V18       0\n",
       "V19       0\n",
       "V20       0\n",
       "V21       0\n",
       "V22       0\n",
       "V23       0\n",
       "V24       0\n",
       "V25       0\n",
       "V26       0\n",
       "V27       0\n",
       "V28       0\n",
       "Amount    0\n",
       "Class     0\n",
       "dtype: int64"
      ]
     },
     "execution_count": 7,
     "metadata": {},
     "output_type": "execute_result"
    }
   ],
   "source": [
    "df.isnull().sum()"
   ]
  },
  {
   "cell_type": "code",
   "execution_count": 9,
   "id": "24958097-38f8-4afb-a5f6-5a28fde8cd37",
   "metadata": {},
   "outputs": [
    {
     "data": {
      "text/plain": [
       "1081"
      ]
     },
     "execution_count": 9,
     "metadata": {},
     "output_type": "execute_result"
    }
   ],
   "source": [
    "df.duplicated().sum()"
   ]
  },
  {
   "cell_type": "code",
   "execution_count": 12,
   "id": "2bf3f72b-7c71-458a-bde4-98ad8a518e75",
   "metadata": {},
   "outputs": [],
   "source": [
    "from sklearn.model_selection import train_test_split\n",
    "from sklearn.linear_model import LogisticRegression\n",
    "from sklearn.metrics import accuracy_score"
   ]
  },
  {
   "cell_type": "code",
   "execution_count": 13,
   "id": "b2ab1c37-33ca-46e9-9df0-16862e61f935",
   "metadata": {},
   "outputs": [
    {
     "name": "stdout",
     "output_type": "stream",
     "text": [
      "<class 'pandas.core.frame.DataFrame'>\n",
      "RangeIndex: 284807 entries, 0 to 284806\n",
      "Data columns (total 31 columns):\n",
      " #   Column  Non-Null Count   Dtype  \n",
      "---  ------  --------------   -----  \n",
      " 0   Time    284807 non-null  float64\n",
      " 1   V1      284807 non-null  float64\n",
      " 2   V2      284807 non-null  float64\n",
      " 3   V3      284807 non-null  float64\n",
      " 4   V4      284807 non-null  float64\n",
      " 5   V5      284807 non-null  float64\n",
      " 6   V6      284807 non-null  float64\n",
      " 7   V7      284807 non-null  float64\n",
      " 8   V8      284807 non-null  float64\n",
      " 9   V9      284807 non-null  float64\n",
      " 10  V10     284807 non-null  float64\n",
      " 11  V11     284807 non-null  float64\n",
      " 12  V12     284807 non-null  float64\n",
      " 13  V13     284807 non-null  float64\n",
      " 14  V14     284807 non-null  float64\n",
      " 15  V15     284807 non-null  float64\n",
      " 16  V16     284807 non-null  float64\n",
      " 17  V17     284807 non-null  float64\n",
      " 18  V18     284807 non-null  float64\n",
      " 19  V19     284807 non-null  float64\n",
      " 20  V20     284807 non-null  float64\n",
      " 21  V21     284807 non-null  float64\n",
      " 22  V22     284807 non-null  float64\n",
      " 23  V23     284807 non-null  float64\n",
      " 24  V24     284807 non-null  float64\n",
      " 25  V25     284807 non-null  float64\n",
      " 26  V26     284807 non-null  float64\n",
      " 27  V27     284807 non-null  float64\n",
      " 28  V28     284807 non-null  float64\n",
      " 29  Amount  284807 non-null  float64\n",
      " 30  Class   284807 non-null  int64  \n",
      "dtypes: float64(30), int64(1)\n",
      "memory usage: 67.4 MB\n"
     ]
    }
   ],
   "source": [
    "df.info()"
   ]
  },
  {
   "cell_type": "code",
   "execution_count": 14,
   "id": "eed45a67-afc8-4301-9685-d2523b51c4d3",
   "metadata": {},
   "outputs": [
    {
     "data": {
      "text/plain": [
       "0    284315\n",
       "1       492\n",
       "Name: Class, dtype: int64"
      ]
     },
     "execution_count": 14,
     "metadata": {},
     "output_type": "execute_result"
    }
   ],
   "source": [
    "#distribution of legit transaction and fraduent transaction\n",
    "df['Class'].value_counts()"
   ]
  },
  {
   "cell_type": "code",
   "execution_count": 15,
   "id": "5d19ef7f-277f-4939-849d-017c1269967d",
   "metadata": {},
   "outputs": [],
   "source": [
    "#0=Normal transaction\n",
    "#1=fradulent trasaction\n",
    "legit=df[df.Class==0]\n",
    "fraud=df[df.Class==1]"
   ]
  },
  {
   "cell_type": "code",
   "execution_count": 16,
   "id": "75990189-9440-49e2-833b-0a155c0a14d1",
   "metadata": {},
   "outputs": [
    {
     "name": "stdout",
     "output_type": "stream",
     "text": [
      "(284315, 31)\n",
      "(492, 31)\n"
     ]
    }
   ],
   "source": [
    "print(legit.shape)\n",
    "print(fraud.shape)"
   ]
  },
  {
   "cell_type": "code",
   "execution_count": 17,
   "id": "48f2b52d-0774-4fb2-b9ba-cf55b75c7999",
   "metadata": {},
   "outputs": [
    {
     "data": {
      "text/plain": [
       "count    284315.000000\n",
       "mean         88.291022\n",
       "std         250.105092\n",
       "min           0.000000\n",
       "25%           5.650000\n",
       "50%          22.000000\n",
       "75%          77.050000\n",
       "max       25691.160000\n",
       "Name: Amount, dtype: float64"
      ]
     },
     "execution_count": 17,
     "metadata": {},
     "output_type": "execute_result"
    }
   ],
   "source": [
    "#statistical measure of the data\n",
    "legit.Amount.describe()"
   ]
  },
  {
   "cell_type": "code",
   "execution_count": 18,
   "id": "6a5b4d59-1cf7-4c38-84d8-8a01624535d4",
   "metadata": {},
   "outputs": [
    {
     "data": {
      "text/plain": [
       "count     492.000000\n",
       "mean      122.211321\n",
       "std       256.683288\n",
       "min         0.000000\n",
       "25%         1.000000\n",
       "50%         9.250000\n",
       "75%       105.890000\n",
       "max      2125.870000\n",
       "Name: Amount, dtype: float64"
      ]
     },
     "execution_count": 18,
     "metadata": {},
     "output_type": "execute_result"
    }
   ],
   "source": [
    "fraud.Amount.describe()"
   ]
  },
  {
   "cell_type": "code",
   "execution_count": 19,
   "id": "08131b44-d77c-43b8-b54d-972106050723",
   "metadata": {},
   "outputs": [
    {
     "data": {
      "text/html": [
       "<div>\n",
       "<style scoped>\n",
       "    .dataframe tbody tr th:only-of-type {\n",
       "        vertical-align: middle;\n",
       "    }\n",
       "\n",
       "    .dataframe tbody tr th {\n",
       "        vertical-align: top;\n",
       "    }\n",
       "\n",
       "    .dataframe thead th {\n",
       "        text-align: right;\n",
       "    }\n",
       "</style>\n",
       "<table border=\"1\" class=\"dataframe\">\n",
       "  <thead>\n",
       "    <tr style=\"text-align: right;\">\n",
       "      <th></th>\n",
       "      <th>Time</th>\n",
       "      <th>V1</th>\n",
       "      <th>V2</th>\n",
       "      <th>V3</th>\n",
       "      <th>V4</th>\n",
       "      <th>V5</th>\n",
       "      <th>V6</th>\n",
       "      <th>V7</th>\n",
       "      <th>V8</th>\n",
       "      <th>V9</th>\n",
       "      <th>...</th>\n",
       "      <th>V20</th>\n",
       "      <th>V21</th>\n",
       "      <th>V22</th>\n",
       "      <th>V23</th>\n",
       "      <th>V24</th>\n",
       "      <th>V25</th>\n",
       "      <th>V26</th>\n",
       "      <th>V27</th>\n",
       "      <th>V28</th>\n",
       "      <th>Amount</th>\n",
       "    </tr>\n",
       "    <tr>\n",
       "      <th>Class</th>\n",
       "      <th></th>\n",
       "      <th></th>\n",
       "      <th></th>\n",
       "      <th></th>\n",
       "      <th></th>\n",
       "      <th></th>\n",
       "      <th></th>\n",
       "      <th></th>\n",
       "      <th></th>\n",
       "      <th></th>\n",
       "      <th></th>\n",
       "      <th></th>\n",
       "      <th></th>\n",
       "      <th></th>\n",
       "      <th></th>\n",
       "      <th></th>\n",
       "      <th></th>\n",
       "      <th></th>\n",
       "      <th></th>\n",
       "      <th></th>\n",
       "      <th></th>\n",
       "    </tr>\n",
       "  </thead>\n",
       "  <tbody>\n",
       "    <tr>\n",
       "      <th>0</th>\n",
       "      <td>94838.202258</td>\n",
       "      <td>0.008258</td>\n",
       "      <td>-0.006271</td>\n",
       "      <td>0.012171</td>\n",
       "      <td>-0.007860</td>\n",
       "      <td>0.005453</td>\n",
       "      <td>0.002419</td>\n",
       "      <td>0.009637</td>\n",
       "      <td>-0.000987</td>\n",
       "      <td>0.004467</td>\n",
       "      <td>...</td>\n",
       "      <td>-0.000644</td>\n",
       "      <td>-0.001235</td>\n",
       "      <td>-0.000024</td>\n",
       "      <td>0.000070</td>\n",
       "      <td>0.000182</td>\n",
       "      <td>-0.000072</td>\n",
       "      <td>-0.000089</td>\n",
       "      <td>-0.000295</td>\n",
       "      <td>-0.000131</td>\n",
       "      <td>88.291022</td>\n",
       "    </tr>\n",
       "    <tr>\n",
       "      <th>1</th>\n",
       "      <td>80746.806911</td>\n",
       "      <td>-4.771948</td>\n",
       "      <td>3.623778</td>\n",
       "      <td>-7.033281</td>\n",
       "      <td>4.542029</td>\n",
       "      <td>-3.151225</td>\n",
       "      <td>-1.397737</td>\n",
       "      <td>-5.568731</td>\n",
       "      <td>0.570636</td>\n",
       "      <td>-2.581123</td>\n",
       "      <td>...</td>\n",
       "      <td>0.372319</td>\n",
       "      <td>0.713588</td>\n",
       "      <td>0.014049</td>\n",
       "      <td>-0.040308</td>\n",
       "      <td>-0.105130</td>\n",
       "      <td>0.041449</td>\n",
       "      <td>0.051648</td>\n",
       "      <td>0.170575</td>\n",
       "      <td>0.075667</td>\n",
       "      <td>122.211321</td>\n",
       "    </tr>\n",
       "  </tbody>\n",
       "</table>\n",
       "<p>2 rows × 30 columns</p>\n",
       "</div>"
      ],
      "text/plain": [
       "               Time        V1        V2        V3        V4        V5  \\\n",
       "Class                                                                   \n",
       "0      94838.202258  0.008258 -0.006271  0.012171 -0.007860  0.005453   \n",
       "1      80746.806911 -4.771948  3.623778 -7.033281  4.542029 -3.151225   \n",
       "\n",
       "             V6        V7        V8        V9  ...       V20       V21  \\\n",
       "Class                                          ...                       \n",
       "0      0.002419  0.009637 -0.000987  0.004467  ... -0.000644 -0.001235   \n",
       "1     -1.397737 -5.568731  0.570636 -2.581123  ...  0.372319  0.713588   \n",
       "\n",
       "            V22       V23       V24       V25       V26       V27       V28  \\\n",
       "Class                                                                         \n",
       "0     -0.000024  0.000070  0.000182 -0.000072 -0.000089 -0.000295 -0.000131   \n",
       "1      0.014049 -0.040308 -0.105130  0.041449  0.051648  0.170575  0.075667   \n",
       "\n",
       "           Amount  \n",
       "Class              \n",
       "0       88.291022  \n",
       "1      122.211321  \n",
       "\n",
       "[2 rows x 30 columns]"
      ]
     },
     "execution_count": 19,
     "metadata": {},
     "output_type": "execute_result"
    }
   ],
   "source": [
    "#compare the values for both transaction\n",
    "df.groupby('Class').mean()"
   ]
  },
  {
   "cell_type": "code",
   "execution_count": 20,
   "id": "d5ac39f8-a669-43c9-a2a5-31710daf28a2",
   "metadata": {},
   "outputs": [],
   "source": [
    "legit_sample=legit.sample(n=492)"
   ]
  },
  {
   "cell_type": "code",
   "execution_count": 21,
   "id": "edc35331-b421-4924-82ef-462f1d021c75",
   "metadata": {},
   "outputs": [],
   "source": [
    "new_df=pd.concat([legit_sample,fraud],axis=0)"
   ]
  },
  {
   "cell_type": "code",
   "execution_count": 22,
   "id": "5acad060-6db1-4662-922d-51964ae1f774",
   "metadata": {},
   "outputs": [
    {
     "data": {
      "text/html": [
       "<div>\n",
       "<style scoped>\n",
       "    .dataframe tbody tr th:only-of-type {\n",
       "        vertical-align: middle;\n",
       "    }\n",
       "\n",
       "    .dataframe tbody tr th {\n",
       "        vertical-align: top;\n",
       "    }\n",
       "\n",
       "    .dataframe thead th {\n",
       "        text-align: right;\n",
       "    }\n",
       "</style>\n",
       "<table border=\"1\" class=\"dataframe\">\n",
       "  <thead>\n",
       "    <tr style=\"text-align: right;\">\n",
       "      <th></th>\n",
       "      <th>Time</th>\n",
       "      <th>V1</th>\n",
       "      <th>V2</th>\n",
       "      <th>V3</th>\n",
       "      <th>V4</th>\n",
       "      <th>V5</th>\n",
       "      <th>V6</th>\n",
       "      <th>V7</th>\n",
       "      <th>V8</th>\n",
       "      <th>V9</th>\n",
       "      <th>...</th>\n",
       "      <th>V21</th>\n",
       "      <th>V22</th>\n",
       "      <th>V23</th>\n",
       "      <th>V24</th>\n",
       "      <th>V25</th>\n",
       "      <th>V26</th>\n",
       "      <th>V27</th>\n",
       "      <th>V28</th>\n",
       "      <th>Amount</th>\n",
       "      <th>Class</th>\n",
       "    </tr>\n",
       "  </thead>\n",
       "  <tbody>\n",
       "    <tr>\n",
       "      <th>261165</th>\n",
       "      <td>159891.0</td>\n",
       "      <td>-0.943780</td>\n",
       "      <td>0.081857</td>\n",
       "      <td>0.798414</td>\n",
       "      <td>-3.127156</td>\n",
       "      <td>-0.478229</td>\n",
       "      <td>-0.386741</td>\n",
       "      <td>-0.263920</td>\n",
       "      <td>0.377506</td>\n",
       "      <td>-2.426146</td>\n",
       "      <td>...</td>\n",
       "      <td>-0.191779</td>\n",
       "      <td>-0.234550</td>\n",
       "      <td>-0.349984</td>\n",
       "      <td>0.460397</td>\n",
       "      <td>0.872020</td>\n",
       "      <td>-0.120593</td>\n",
       "      <td>0.133959</td>\n",
       "      <td>0.034084</td>\n",
       "      <td>15.00</td>\n",
       "      <td>0</td>\n",
       "    </tr>\n",
       "    <tr>\n",
       "      <th>250980</th>\n",
       "      <td>155153.0</td>\n",
       "      <td>-0.107553</td>\n",
       "      <td>0.388638</td>\n",
       "      <td>1.350204</td>\n",
       "      <td>-0.101273</td>\n",
       "      <td>-0.070632</td>\n",
       "      <td>0.527327</td>\n",
       "      <td>-0.074537</td>\n",
       "      <td>0.318620</td>\n",
       "      <td>0.089007</td>\n",
       "      <td>...</td>\n",
       "      <td>0.323105</td>\n",
       "      <td>1.042789</td>\n",
       "      <td>-0.083153</td>\n",
       "      <td>0.761514</td>\n",
       "      <td>-0.824392</td>\n",
       "      <td>0.616868</td>\n",
       "      <td>0.182139</td>\n",
       "      <td>0.192477</td>\n",
       "      <td>11.49</td>\n",
       "      <td>0</td>\n",
       "    </tr>\n",
       "    <tr>\n",
       "      <th>78596</th>\n",
       "      <td>57607.0</td>\n",
       "      <td>0.795841</td>\n",
       "      <td>-0.992070</td>\n",
       "      <td>0.941105</td>\n",
       "      <td>0.160022</td>\n",
       "      <td>-0.942449</td>\n",
       "      <td>0.919299</td>\n",
       "      <td>-0.732985</td>\n",
       "      <td>0.454850</td>\n",
       "      <td>0.960866</td>\n",
       "      <td>...</td>\n",
       "      <td>-0.039645</td>\n",
       "      <td>-0.166954</td>\n",
       "      <td>0.001081</td>\n",
       "      <td>-0.212529</td>\n",
       "      <td>-0.104921</td>\n",
       "      <td>0.969728</td>\n",
       "      <td>-0.033868</td>\n",
       "      <td>0.022437</td>\n",
       "      <td>155.98</td>\n",
       "      <td>0</td>\n",
       "    </tr>\n",
       "    <tr>\n",
       "      <th>37055</th>\n",
       "      <td>38788.0</td>\n",
       "      <td>-1.465591</td>\n",
       "      <td>1.715563</td>\n",
       "      <td>0.189593</td>\n",
       "      <td>0.778776</td>\n",
       "      <td>0.385113</td>\n",
       "      <td>1.302066</td>\n",
       "      <td>-0.017162</td>\n",
       "      <td>-0.051952</td>\n",
       "      <td>-0.255581</td>\n",
       "      <td>...</td>\n",
       "      <td>0.648655</td>\n",
       "      <td>-0.132464</td>\n",
       "      <td>-0.124282</td>\n",
       "      <td>-1.334594</td>\n",
       "      <td>0.236106</td>\n",
       "      <td>-0.135455</td>\n",
       "      <td>0.589500</td>\n",
       "      <td>0.234215</td>\n",
       "      <td>35.62</td>\n",
       "      <td>0</td>\n",
       "    </tr>\n",
       "    <tr>\n",
       "      <th>4675</th>\n",
       "      <td>4085.0</td>\n",
       "      <td>-4.737622</td>\n",
       "      <td>1.863574</td>\n",
       "      <td>-3.268509</td>\n",
       "      <td>-0.289164</td>\n",
       "      <td>0.263620</td>\n",
       "      <td>3.394204</td>\n",
       "      <td>-1.613829</td>\n",
       "      <td>1.910162</td>\n",
       "      <td>1.179396</td>\n",
       "      <td>...</td>\n",
       "      <td>0.361393</td>\n",
       "      <td>-1.295559</td>\n",
       "      <td>0.115039</td>\n",
       "      <td>0.962198</td>\n",
       "      <td>0.069826</td>\n",
       "      <td>0.115512</td>\n",
       "      <td>-0.806910</td>\n",
       "      <td>-0.591903</td>\n",
       "      <td>35.38</td>\n",
       "      <td>0</td>\n",
       "    </tr>\n",
       "  </tbody>\n",
       "</table>\n",
       "<p>5 rows × 31 columns</p>\n",
       "</div>"
      ],
      "text/plain": [
       "            Time        V1        V2        V3        V4        V5        V6  \\\n",
       "261165  159891.0 -0.943780  0.081857  0.798414 -3.127156 -0.478229 -0.386741   \n",
       "250980  155153.0 -0.107553  0.388638  1.350204 -0.101273 -0.070632  0.527327   \n",
       "78596    57607.0  0.795841 -0.992070  0.941105  0.160022 -0.942449  0.919299   \n",
       "37055    38788.0 -1.465591  1.715563  0.189593  0.778776  0.385113  1.302066   \n",
       "4675      4085.0 -4.737622  1.863574 -3.268509 -0.289164  0.263620  3.394204   \n",
       "\n",
       "              V7        V8        V9  ...       V21       V22       V23  \\\n",
       "261165 -0.263920  0.377506 -2.426146  ... -0.191779 -0.234550 -0.349984   \n",
       "250980 -0.074537  0.318620  0.089007  ...  0.323105  1.042789 -0.083153   \n",
       "78596  -0.732985  0.454850  0.960866  ... -0.039645 -0.166954  0.001081   \n",
       "37055  -0.017162 -0.051952 -0.255581  ...  0.648655 -0.132464 -0.124282   \n",
       "4675   -1.613829  1.910162  1.179396  ...  0.361393 -1.295559  0.115039   \n",
       "\n",
       "             V24       V25       V26       V27       V28  Amount  Class  \n",
       "261165  0.460397  0.872020 -0.120593  0.133959  0.034084   15.00      0  \n",
       "250980  0.761514 -0.824392  0.616868  0.182139  0.192477   11.49      0  \n",
       "78596  -0.212529 -0.104921  0.969728 -0.033868  0.022437  155.98      0  \n",
       "37055  -1.334594  0.236106 -0.135455  0.589500  0.234215   35.62      0  \n",
       "4675    0.962198  0.069826  0.115512 -0.806910 -0.591903   35.38      0  \n",
       "\n",
       "[5 rows x 31 columns]"
      ]
     },
     "execution_count": 22,
     "metadata": {},
     "output_type": "execute_result"
    }
   ],
   "source": [
    "new_df.head()"
   ]
  },
  {
   "cell_type": "code",
   "execution_count": 24,
   "id": "fd382183-a14b-4a50-81ad-bc1a9da8a820",
   "metadata": {},
   "outputs": [
    {
     "data": {
      "text/plain": [
       "0    492\n",
       "1    492\n",
       "Name: Class, dtype: int64"
      ]
     },
     "execution_count": 24,
     "metadata": {},
     "output_type": "execute_result"
    }
   ],
   "source": [
    "new_df['Class'].value_counts()"
   ]
  },
  {
   "cell_type": "code",
   "execution_count": 25,
   "id": "cb94220d-8c06-4546-9b9a-c49e24220a8e",
   "metadata": {},
   "outputs": [
    {
     "data": {
      "text/html": [
       "<div>\n",
       "<style scoped>\n",
       "    .dataframe tbody tr th:only-of-type {\n",
       "        vertical-align: middle;\n",
       "    }\n",
       "\n",
       "    .dataframe tbody tr th {\n",
       "        vertical-align: top;\n",
       "    }\n",
       "\n",
       "    .dataframe thead th {\n",
       "        text-align: right;\n",
       "    }\n",
       "</style>\n",
       "<table border=\"1\" class=\"dataframe\">\n",
       "  <thead>\n",
       "    <tr style=\"text-align: right;\">\n",
       "      <th></th>\n",
       "      <th>Time</th>\n",
       "      <th>V1</th>\n",
       "      <th>V2</th>\n",
       "      <th>V3</th>\n",
       "      <th>V4</th>\n",
       "      <th>V5</th>\n",
       "      <th>V6</th>\n",
       "      <th>V7</th>\n",
       "      <th>V8</th>\n",
       "      <th>V9</th>\n",
       "      <th>...</th>\n",
       "      <th>V20</th>\n",
       "      <th>V21</th>\n",
       "      <th>V22</th>\n",
       "      <th>V23</th>\n",
       "      <th>V24</th>\n",
       "      <th>V25</th>\n",
       "      <th>V26</th>\n",
       "      <th>V27</th>\n",
       "      <th>V28</th>\n",
       "      <th>Amount</th>\n",
       "    </tr>\n",
       "    <tr>\n",
       "      <th>Class</th>\n",
       "      <th></th>\n",
       "      <th></th>\n",
       "      <th></th>\n",
       "      <th></th>\n",
       "      <th></th>\n",
       "      <th></th>\n",
       "      <th></th>\n",
       "      <th></th>\n",
       "      <th></th>\n",
       "      <th></th>\n",
       "      <th></th>\n",
       "      <th></th>\n",
       "      <th></th>\n",
       "      <th></th>\n",
       "      <th></th>\n",
       "      <th></th>\n",
       "      <th></th>\n",
       "      <th></th>\n",
       "      <th></th>\n",
       "      <th></th>\n",
       "      <th></th>\n",
       "    </tr>\n",
       "  </thead>\n",
       "  <tbody>\n",
       "    <tr>\n",
       "      <th>0</th>\n",
       "      <td>94914.886179</td>\n",
       "      <td>0.016387</td>\n",
       "      <td>0.003321</td>\n",
       "      <td>-0.020885</td>\n",
       "      <td>0.063646</td>\n",
       "      <td>0.107446</td>\n",
       "      <td>0.003783</td>\n",
       "      <td>0.046843</td>\n",
       "      <td>0.025947</td>\n",
       "      <td>-0.007119</td>\n",
       "      <td>...</td>\n",
       "      <td>0.015157</td>\n",
       "      <td>0.013174</td>\n",
       "      <td>-0.016367</td>\n",
       "      <td>-0.017910</td>\n",
       "      <td>0.04020</td>\n",
       "      <td>-0.015838</td>\n",
       "      <td>-0.001746</td>\n",
       "      <td>-0.003070</td>\n",
       "      <td>-0.006584</td>\n",
       "      <td>85.685894</td>\n",
       "    </tr>\n",
       "    <tr>\n",
       "      <th>1</th>\n",
       "      <td>80746.806911</td>\n",
       "      <td>-4.771948</td>\n",
       "      <td>3.623778</td>\n",
       "      <td>-7.033281</td>\n",
       "      <td>4.542029</td>\n",
       "      <td>-3.151225</td>\n",
       "      <td>-1.397737</td>\n",
       "      <td>-5.568731</td>\n",
       "      <td>0.570636</td>\n",
       "      <td>-2.581123</td>\n",
       "      <td>...</td>\n",
       "      <td>0.372319</td>\n",
       "      <td>0.713588</td>\n",
       "      <td>0.014049</td>\n",
       "      <td>-0.040308</td>\n",
       "      <td>-0.10513</td>\n",
       "      <td>0.041449</td>\n",
       "      <td>0.051648</td>\n",
       "      <td>0.170575</td>\n",
       "      <td>0.075667</td>\n",
       "      <td>122.211321</td>\n",
       "    </tr>\n",
       "  </tbody>\n",
       "</table>\n",
       "<p>2 rows × 30 columns</p>\n",
       "</div>"
      ],
      "text/plain": [
       "               Time        V1        V2        V3        V4        V5  \\\n",
       "Class                                                                   \n",
       "0      94914.886179  0.016387  0.003321 -0.020885  0.063646  0.107446   \n",
       "1      80746.806911 -4.771948  3.623778 -7.033281  4.542029 -3.151225   \n",
       "\n",
       "             V6        V7        V8        V9  ...       V20       V21  \\\n",
       "Class                                          ...                       \n",
       "0      0.003783  0.046843  0.025947 -0.007119  ...  0.015157  0.013174   \n",
       "1     -1.397737 -5.568731  0.570636 -2.581123  ...  0.372319  0.713588   \n",
       "\n",
       "            V22       V23      V24       V25       V26       V27       V28  \\\n",
       "Class                                                                        \n",
       "0     -0.016367 -0.017910  0.04020 -0.015838 -0.001746 -0.003070 -0.006584   \n",
       "1      0.014049 -0.040308 -0.10513  0.041449  0.051648  0.170575  0.075667   \n",
       "\n",
       "           Amount  \n",
       "Class              \n",
       "0       85.685894  \n",
       "1      122.211321  \n",
       "\n",
       "[2 rows x 30 columns]"
      ]
     },
     "execution_count": 25,
     "metadata": {},
     "output_type": "execute_result"
    }
   ],
   "source": [
    "new_df.groupby('Class').mean()"
   ]
  },
  {
   "cell_type": "code",
   "execution_count": 31,
   "id": "ecb0c019-d831-4300-8c64-914ac2172363",
   "metadata": {},
   "outputs": [],
   "source": [
    "#splitting the data into features and target\n",
    "X=new_df.drop(columns='Class',axis=1)\n",
    "Y=new_df['Class']"
   ]
  },
  {
   "cell_type": "code",
   "execution_count": 32,
   "id": "d4d09caa-73c6-4bee-85b4-c6ab3902f70a",
   "metadata": {},
   "outputs": [
    {
     "name": "stdout",
     "output_type": "stream",
     "text": [
      "            Time        V1        V2        V3        V4        V5        V6  \\\n",
      "261165  159891.0 -0.943780  0.081857  0.798414 -3.127156 -0.478229 -0.386741   \n",
      "250980  155153.0 -0.107553  0.388638  1.350204 -0.101273 -0.070632  0.527327   \n",
      "78596    57607.0  0.795841 -0.992070  0.941105  0.160022 -0.942449  0.919299   \n",
      "37055    38788.0 -1.465591  1.715563  0.189593  0.778776  0.385113  1.302066   \n",
      "4675      4085.0 -4.737622  1.863574 -3.268509 -0.289164  0.263620  3.394204   \n",
      "...          ...       ...       ...       ...       ...       ...       ...   \n",
      "279863  169142.0 -1.927883  1.125653 -4.518331  1.749293 -1.566487 -2.010494   \n",
      "280143  169347.0  1.378559  1.289381 -5.004247  1.411850  0.442581 -1.326536   \n",
      "280149  169351.0 -0.676143  1.126366 -2.213700  0.468308 -1.120541 -0.003346   \n",
      "281144  169966.0 -3.113832  0.585864 -5.399730  1.817092 -0.840618 -2.943548   \n",
      "281674  170348.0  1.991976  0.158476 -2.583441  0.408670  1.151147 -0.096695   \n",
      "\n",
      "              V7        V8        V9  ...       V20       V21       V22  \\\n",
      "261165 -0.263920  0.377506 -2.426146  ... -0.244222 -0.191779 -0.234550   \n",
      "250980 -0.074537  0.318620  0.089007  ...  0.027991  0.323105  1.042789   \n",
      "78596  -0.732985  0.454850  0.960866  ...  0.151968 -0.039645 -0.166954   \n",
      "37055  -0.017162 -0.051952 -0.255581  ...  0.127442  0.648655 -0.132464   \n",
      "4675   -1.613829  1.910162  1.179396  ... -0.251117  0.361393 -1.295559   \n",
      "...          ...       ...       ...  ...       ...       ...       ...   \n",
      "279863 -0.882850  0.697211 -2.064945  ...  1.252967  0.778584 -0.319189   \n",
      "280143 -1.413170  0.248525 -1.127396  ...  0.226138  0.370612  0.028234   \n",
      "280149 -2.234739  1.210158 -0.652250  ...  0.247968  0.751826  0.834108   \n",
      "281144 -2.208002  1.058733 -1.632333  ...  0.306271  0.583276 -0.269209   \n",
      "281674  0.223050 -0.068384  0.577829  ... -0.017652 -0.164350 -0.295135   \n",
      "\n",
      "             V23       V24       V25       V26       V27       V28  Amount  \n",
      "261165 -0.349984  0.460397  0.872020 -0.120593  0.133959  0.034084   15.00  \n",
      "250980 -0.083153  0.761514 -0.824392  0.616868  0.182139  0.192477   11.49  \n",
      "78596   0.001081 -0.212529 -0.104921  0.969728 -0.033868  0.022437  155.98  \n",
      "37055  -0.124282 -1.334594  0.236106 -0.135455  0.589500  0.234215   35.62  \n",
      "4675    0.115039  0.962198  0.069826  0.115512 -0.806910 -0.591903   35.38  \n",
      "...          ...       ...       ...       ...       ...       ...     ...  \n",
      "279863  0.639419 -0.294885  0.537503  0.788395  0.292680  0.147968  390.00  \n",
      "280143 -0.145640 -0.081049  0.521875  0.739467  0.389152  0.186637    0.76  \n",
      "280149  0.190944  0.032070 -0.739695  0.471111  0.385107  0.194361   77.89  \n",
      "281144 -0.456108 -0.183659 -0.328168  0.606116  0.884876 -0.253700  245.00  \n",
      "281674 -0.072173 -0.450261  0.313267 -0.289617  0.002988 -0.015309   42.53  \n",
      "\n",
      "[984 rows x 30 columns]\n"
     ]
    }
   ],
   "source": [
    "print(X)"
   ]
  },
  {
   "cell_type": "code",
   "execution_count": 33,
   "id": "81ce1314-2a4d-4a0b-aea1-53c31c1da19a",
   "metadata": {},
   "outputs": [
    {
     "name": "stdout",
     "output_type": "stream",
     "text": [
      "261165    0\n",
      "250980    0\n",
      "78596     0\n",
      "37055     0\n",
      "4675      0\n",
      "         ..\n",
      "279863    1\n",
      "280143    1\n",
      "280149    1\n",
      "281144    1\n",
      "281674    1\n",
      "Name: Class, Length: 984, dtype: int64\n"
     ]
    }
   ],
   "source": [
    "print(Y)"
   ]
  },
  {
   "cell_type": "code",
   "execution_count": 34,
   "id": "01627e61-6de8-4a33-a2c6-71c2cdd01d9d",
   "metadata": {},
   "outputs": [],
   "source": [
    "#split the data into training data and testing data\n",
    "X_train ,X_test, Y_train, Y_test = train_test_split(X,Y,test_size=0.2,random_state=2)"
   ]
  },
  {
   "cell_type": "code",
   "execution_count": 35,
   "id": "7f28dfbc-54f2-48e0-88a3-b96cd3cd2388",
   "metadata": {},
   "outputs": [
    {
     "name": "stdout",
     "output_type": "stream",
     "text": [
      "(984, 30) (787, 30) (197, 30)\n"
     ]
    }
   ],
   "source": [
    "print(X.shape,X_train.shape,X_test.shape)"
   ]
  },
  {
   "cell_type": "code",
   "execution_count": 36,
   "id": "5c09b258-33fa-4601-8563-f47c8e002a6d",
   "metadata": {},
   "outputs": [],
   "source": [
    "#model training\n",
    "model=LogisticRegression()"
   ]
  },
  {
   "cell_type": "code",
   "execution_count": 37,
   "id": "8834accf-b90d-49b3-8604-b13c618c59b1",
   "metadata": {},
   "outputs": [
    {
     "data": {
      "text/html": [
       "<style>#sk-container-id-1 {color: black;}#sk-container-id-1 pre{padding: 0;}#sk-container-id-1 div.sk-toggleable {background-color: white;}#sk-container-id-1 label.sk-toggleable__label {cursor: pointer;display: block;width: 100%;margin-bottom: 0;padding: 0.3em;box-sizing: border-box;text-align: center;}#sk-container-id-1 label.sk-toggleable__label-arrow:before {content: \"▸\";float: left;margin-right: 0.25em;color: #696969;}#sk-container-id-1 label.sk-toggleable__label-arrow:hover:before {color: black;}#sk-container-id-1 div.sk-estimator:hover label.sk-toggleable__label-arrow:before {color: black;}#sk-container-id-1 div.sk-toggleable__content {max-height: 0;max-width: 0;overflow: hidden;text-align: left;background-color: #f0f8ff;}#sk-container-id-1 div.sk-toggleable__content pre {margin: 0.2em;color: black;border-radius: 0.25em;background-color: #f0f8ff;}#sk-container-id-1 input.sk-toggleable__control:checked~div.sk-toggleable__content {max-height: 200px;max-width: 100%;overflow: auto;}#sk-container-id-1 input.sk-toggleable__control:checked~label.sk-toggleable__label-arrow:before {content: \"▾\";}#sk-container-id-1 div.sk-estimator input.sk-toggleable__control:checked~label.sk-toggleable__label {background-color: #d4ebff;}#sk-container-id-1 div.sk-label input.sk-toggleable__control:checked~label.sk-toggleable__label {background-color: #d4ebff;}#sk-container-id-1 input.sk-hidden--visually {border: 0;clip: rect(1px 1px 1px 1px);clip: rect(1px, 1px, 1px, 1px);height: 1px;margin: -1px;overflow: hidden;padding: 0;position: absolute;width: 1px;}#sk-container-id-1 div.sk-estimator {font-family: monospace;background-color: #f0f8ff;border: 1px dotted black;border-radius: 0.25em;box-sizing: border-box;margin-bottom: 0.5em;}#sk-container-id-1 div.sk-estimator:hover {background-color: #d4ebff;}#sk-container-id-1 div.sk-parallel-item::after {content: \"\";width: 100%;border-bottom: 1px solid gray;flex-grow: 1;}#sk-container-id-1 div.sk-label:hover label.sk-toggleable__label {background-color: #d4ebff;}#sk-container-id-1 div.sk-serial::before {content: \"\";position: absolute;border-left: 1px solid gray;box-sizing: border-box;top: 0;bottom: 0;left: 50%;z-index: 0;}#sk-container-id-1 div.sk-serial {display: flex;flex-direction: column;align-items: center;background-color: white;padding-right: 0.2em;padding-left: 0.2em;position: relative;}#sk-container-id-1 div.sk-item {position: relative;z-index: 1;}#sk-container-id-1 div.sk-parallel {display: flex;align-items: stretch;justify-content: center;background-color: white;position: relative;}#sk-container-id-1 div.sk-item::before, #sk-container-id-1 div.sk-parallel-item::before {content: \"\";position: absolute;border-left: 1px solid gray;box-sizing: border-box;top: 0;bottom: 0;left: 50%;z-index: -1;}#sk-container-id-1 div.sk-parallel-item {display: flex;flex-direction: column;z-index: 1;position: relative;background-color: white;}#sk-container-id-1 div.sk-parallel-item:first-child::after {align-self: flex-end;width: 50%;}#sk-container-id-1 div.sk-parallel-item:last-child::after {align-self: flex-start;width: 50%;}#sk-container-id-1 div.sk-parallel-item:only-child::after {width: 0;}#sk-container-id-1 div.sk-dashed-wrapped {border: 1px dashed gray;margin: 0 0.4em 0.5em 0.4em;box-sizing: border-box;padding-bottom: 0.4em;background-color: white;}#sk-container-id-1 div.sk-label label {font-family: monospace;font-weight: bold;display: inline-block;line-height: 1.2em;}#sk-container-id-1 div.sk-label-container {text-align: center;}#sk-container-id-1 div.sk-container {/* jupyter's `normalize.less` sets `[hidden] { display: none; }` but bootstrap.min.css set `[hidden] { display: none !important; }` so we also need the `!important` here to be able to override the default hidden behavior on the sphinx rendered scikit-learn.org. See: https://github.com/scikit-learn/scikit-learn/issues/21755 */display: inline-block !important;position: relative;}#sk-container-id-1 div.sk-text-repr-fallback {display: none;}</style><div id=\"sk-container-id-1\" class=\"sk-top-container\"><div class=\"sk-text-repr-fallback\"><pre>LogisticRegression()</pre><b>In a Jupyter environment, please rerun this cell to show the HTML representation or trust the notebook. <br />On GitHub, the HTML representation is unable to render, please try loading this page with nbviewer.org.</b></div><div class=\"sk-container\" hidden><div class=\"sk-item\"><div class=\"sk-estimator sk-toggleable\"><input class=\"sk-toggleable__control sk-hidden--visually\" id=\"sk-estimator-id-1\" type=\"checkbox\" checked><label for=\"sk-estimator-id-1\" class=\"sk-toggleable__label sk-toggleable__label-arrow\">LogisticRegression</label><div class=\"sk-toggleable__content\"><pre>LogisticRegression()</pre></div></div></div></div></div>"
      ],
      "text/plain": [
       "LogisticRegression()"
      ]
     },
     "execution_count": 37,
     "metadata": {},
     "output_type": "execute_result"
    }
   ],
   "source": [
    "model.fit(X_train,Y_train)"
   ]
  },
  {
   "cell_type": "code",
   "execution_count": 38,
   "id": "eb724df7-267d-478b-a8bc-bbeb16cab87e",
   "metadata": {},
   "outputs": [],
   "source": [
    "#model evaluation\n",
    "X_train_prediction=model.predict(X_train)\n",
    "training_data_accuracy=accuracy_score(X_train_prediction,Y_train)"
   ]
  },
  {
   "cell_type": "code",
   "execution_count": 39,
   "id": "d467eb4c-9537-4b73-a43e-fe6fbe8412f9",
   "metadata": {},
   "outputs": [
    {
     "name": "stdout",
     "output_type": "stream",
     "text": [
      "0.9301143583227446\n"
     ]
    }
   ],
   "source": [
    "print(training_data_accuracy)"
   ]
  },
  {
   "cell_type": "code",
   "execution_count": 40,
   "id": "6abe31dc-daf2-44be-971f-b4aaf11ef347",
   "metadata": {},
   "outputs": [],
   "source": [
    "X_test_prediction=model.predict(X_test)\n",
    "test_data_accuracy=accuracy_score(X_test_prediction,Y_test)"
   ]
  },
  {
   "cell_type": "code",
   "execution_count": 41,
   "id": "2b8d5df0-0795-4fe2-a596-c51e658c113b",
   "metadata": {},
   "outputs": [
    {
     "name": "stdout",
     "output_type": "stream",
     "text": [
      "0.9289340101522843\n"
     ]
    }
   ],
   "source": [
    "print(test_data_accuracy)"
   ]
  },
  {
   "cell_type": "code",
   "execution_count": null,
   "id": "b1ffe1ff-af13-44b1-84c0-c313ead67208",
   "metadata": {},
   "outputs": [],
   "source": []
  }
 ],
 "metadata": {
  "kernelspec": {
   "display_name": "Python 3 (ipykernel)",
   "language": "python",
   "name": "python3"
  },
  "language_info": {
   "codemirror_mode": {
    "name": "ipython",
    "version": 3
   },
   "file_extension": ".py",
   "mimetype": "text/x-python",
   "name": "python",
   "nbconvert_exporter": "python",
   "pygments_lexer": "ipython3",
   "version": "3.11.0"
  }
 },
 "nbformat": 4,
 "nbformat_minor": 5
}
